{
 "cells": [
  {
   "cell_type": "markdown",
   "id": "637ec6d6",
   "metadata": {},
   "source": [
    "# 1. Evaluation of the Completeness of Data"
   ]
  },
  {
   "cell_type": "markdown",
   "id": "f54eb0fb",
   "metadata": {},
   "source": [
    "In the initial phase of our predictive modeling project, it's crucial to assess the completeness of the data collected across various datasets. This evaluation ensures that the foundational data used for modeling is robust and reflective of real-world conditions, allowing for more accurate predictions and insights."
   ]
  },
  {
   "cell_type": "markdown",
   "id": "5bb1c583",
   "metadata": {},
   "source": [
    "**Methodology**"
   ]
  },
  {
   "cell_type": "code",
   "execution_count": 2,
   "id": "44a8f690",
   "metadata": {},
   "outputs": [
    {
     "name": "stdout",
     "output_type": "stream",
     "text": [
      "Missing Values in cycles Dataset:\n",
      "ordered_at                58.196408\n",
      "remark                    48.949178\n",
      "species_id                31.104318\n",
      "hatchery_id               17.768437\n",
      "hatchery_name             17.768437\n",
      "total_seed_type            9.247230\n",
      "pond_depth                 4.508980\n",
      "initial_age                1.834161\n",
      "limit_weight_per_area      0.267482\n",
      "pond_length                0.229270\n",
      "pond_width                 0.229270\n",
      "target_size                0.152847\n",
      "target_cultivation_day     0.114635\n",
      "finished_at                0.038212\n",
      "id                         0.000000\n",
      "total_seed                 0.000000\n",
      "created_at                 0.000000\n",
      "started_at                 0.000000\n",
      "pond_id                    0.000000\n",
      "updated_at                 0.000000\n",
      "subscription_type          0.000000\n",
      "extracted_at               0.000000\n",
      "area                       0.000000\n",
      "pond_name                  0.000000\n",
      "dtype: float64\n",
      "\n",
      "Missing Values in farms Dataset:\n",
      "regency     16.878403\n",
      "province    13.067151\n",
      "id           0.000000\n",
      "timezone     0.000000\n",
      "dtype: float64\n",
      "\n",
      "Missing Values in fasting Dataset:\n",
      "fasting        0.274681\n",
      "logged_date    0.000000\n",
      "cycle_id       0.000000\n",
      "dtype: float64\n",
      "\n",
      "Missing Values in fastings Dataset:\n",
      "fasting        0.123537\n",
      "logged_date    0.000000\n",
      "cycle_id       0.000000\n",
      "dtype: float64\n",
      "\n",
      "Missing Values in feed_tray Dataset:\n",
      "remark                    75.152681\n",
      "id                         0.000000\n",
      "logged_at                  0.000000\n",
      "feed_logged_at             0.000000\n",
      "tray_number                0.000000\n",
      "cycle_id                   0.000000\n",
      "feed_remaining_percent     0.000000\n",
      "created_at                 0.000000\n",
      "updated_at                 0.000000\n",
      "local_feed_logged_at       0.000000\n",
      "dtype: float64\n",
      "\n",
      "Missing Values in feeds Dataset:\n",
      "logged_at    0.002971\n",
      "quantity     0.002971\n",
      "cycle_id     0.000000\n",
      "dtype: float64\n",
      "\n",
      "Missing Values in harvests Dataset:\n",
      "selling_price    22.171386\n",
      "status            3.252133\n",
      "cycle_id          0.000000\n",
      "updated_at        0.000000\n",
      "size              0.000000\n",
      "weight            0.000000\n",
      "created_at        0.000000\n",
      "harvested_at      0.000000\n",
      "id                0.000000\n",
      "dtype: float64\n",
      "\n",
      "Missing Values in measurements Dataset:\n",
      "turbidity              99.880618\n",
      "nitrate                98.445164\n",
      "ammonia                97.304567\n",
      "carbonate              96.197051\n",
      "hardness               96.026609\n",
      "calcium                95.259259\n",
      "magnesium              95.239123\n",
      "bicarbonate            95.197411\n",
      "tom                    94.767350\n",
      "nitrite                92.983100\n",
      "total_plankton_        90.923409\n",
      "alkalinity             90.279036\n",
      "evening_pH             56.167566\n",
      "evening_salinity       53.187343\n",
      "evening_do             46.816253\n",
      "transparency           44.408486\n",
      "morning_do             44.102122\n",
      "evening_temperature    35.842503\n",
      "morning_salinity       33.360662\n",
      "morning_temperature    30.100683\n",
      "morning_pH             14.466019\n",
      "cycle_id                0.000000\n",
      "measured_date           0.000000\n",
      "pond_id                 0.000000\n",
      "dtype: float64\n",
      "\n",
      "Missing Values in mortalities Dataset:\n",
      "id                0.0\n",
      "cycle_id          0.0\n",
      "quantity          0.0\n",
      "recorded_at       0.0\n",
      "created_at        0.0\n",
      "updated_at        0.0\n",
      "average_weight    0.0\n",
      "dtype: float64\n",
      "\n",
      "Missing Values in ponds Dataset:\n",
      "max_seed_density    60.059172\n",
      "deep                27.218935\n",
      "width                8.579882\n",
      "length               6.804734\n",
      "farm_id              0.000000\n",
      "id                   0.000000\n",
      "created_at           0.000000\n",
      "updated_at           0.000000\n",
      "record_id            0.000000\n",
      "extracted_at         0.000000\n",
      "dtype: float64\n",
      "\n",
      "Missing Values in samplings Dataset:\n",
      "remark            91.092336\n",
      "updated_at         0.000000\n",
      "cycle_id           0.000000\n",
      "sampled_at         0.000000\n",
      "created_at         0.000000\n",
      "average_weight     0.000000\n",
      "id                 0.000000\n",
      "dtype: float64\n",
      "\n"
     ]
    }
   ],
   "source": [
    "import pandas as pd\n",
    "import numpy as np\n",
    "\n",
    "# Load datasets and evaluate missing values\n",
    "data_files = {\n",
    "    \"cycles\": \"data/cycles.csv\",\n",
    "    \"farms\": \"data/farms.csv\",\n",
    "    \"fasting\": \"data/fasting.csv\",\n",
    "    \"fastings\": \"data/fastings.csv\",\n",
    "    \"feed_tray\": \"data/feed_tray.csv\",\n",
    "    \"feeds\": \"data/feeds.csv\",\n",
    "    \"harvests\": \"data/harvests.csv\",\n",
    "    \"measurements\": \"data/measurements.csv\",\n",
    "    \"mortalities\": \"data/mortalities.csv\",\n",
    "    \"ponds\": \"data/ponds.csv\",\n",
    "    \"samplings\": \"data/samplings.csv\"\n",
    "}\n",
    "\n",
    "# Load each dataset into a dataframe\n",
    "dataframes = {name: pd.read_csv(path) for name, path in data_files.items()}\n",
    "\n",
    "# Calculate percentage of missing values and sort them\n",
    "missing_values_summary = {\n",
    "    name: (df.isnull().sum() / len(df) * 100).sort_values(ascending=False)\n",
    "    for name, df in dataframes.items()\n",
    "}\n",
    "\n",
    "# Display missing values summary, sorted by highest percentage\n",
    "for dataset_name, missing_values in missing_values_summary.items():\n",
    "    if not missing_values.empty:\n",
    "        print(f\"Missing Values in {dataset_name} Dataset:\\n{missing_values}\\n\")\n",
    "    else:\n",
    "        print(f\"No missing values in {dataset_name} Dataset.\\n\")\n"
   ]
  },
  {
   "cell_type": "markdown",
   "id": "f4190b0a",
   "metadata": {},
   "source": [
    "# 2. Calculate The Survival Rate of The Shrimps"
   ]
  },
  {
   "cell_type": "code",
   "execution_count": 3,
   "id": "cb4f5000",
   "metadata": {},
   "outputs": [
    {
     "name": "stdout",
     "output_type": "stream",
     "text": [
      "Survival Rate (SR) per Cultivation Cycle:\n",
      "   cycle_id         SR\n",
      "0    18876  46.953031\n",
      "1    22118  74.250000\n",
      "2    24088  52.193979\n",
      "3    17743  69.962551\n",
      "4    17125  14.856383\n"
     ]
    }
   ],
   "source": [
    "#Survival Rate\n",
    "def calculate_sr(cycles_df, harvests_df):\n",
    "    # Handle duplicates in cycles_df\n",
    "    cycles_df = cycles_df.drop_duplicates(subset=['id', 'total_seed'])\n",
    "\n",
    "    # Calculate the total number of harvested shrimp using sum-product\n",
    "    harvests_df['total_harvested_shrimp'] = harvests_df['weight'] * harvests_df['size']\n",
    "    \n",
    "    # Aggregate the harvests data by cycle_id using sum-product for total harvested shrimp\n",
    "    aggregated_harvests_df = harvests_df.groupby('cycle_id').agg({\n",
    "        'total_harvested_shrimp': 'sum'\n",
    "    }).reset_index()\n",
    "    \n",
    "    # Merge the cycles data with the aggregated harvests data\n",
    "    merged_df = pd.merge(cycles_df, aggregated_harvests_df, left_on='id', right_on='cycle_id', how='inner')\n",
    "    \n",
    "    # Calculate Survival Rate (SR)\n",
    "    merged_df['SR'] = (merged_df['total_harvested_shrimp'] / merged_df['total_seed']) * 100\n",
    "    \n",
    "    return merged_df[['cycle_id', 'SR']]\n",
    "\n",
    "\n",
    "sr_df = calculate_sr(dataframes['cycles'], dataframes['harvests'])\n",
    "sr_df[\"cycle_id\"] = sr_df['cycle_id'].astype(int).astype(str)\n",
    "sr_df.to_csv('survival_rate.csv', index=False)\n",
    "print(\"Survival Rate (SR) per Cultivation Cycle:\\n\", sr_df.head())\n",
    "\n"
   ]
  },
  {
   "cell_type": "markdown",
   "id": "6d2347a7",
   "metadata": {},
   "source": [
    "# 3. Average growth rate (ADG) of shrimp per cultivation cycle"
   ]
  },
  {
   "cell_type": "code",
   "execution_count": 4,
   "id": "9538e125",
   "metadata": {},
   "outputs": [
    {
     "name": "stdout",
     "output_type": "stream",
     "text": [
      "Average Daily Gain (ADG) per Cultivation Cycle:\n",
      "    cycle_id       ADG\n",
      "0    3458.0  0.270260\n",
      "1    3459.0  0.266786\n",
      "2    4038.0  0.281250\n",
      "3    4039.0  0.273077\n",
      "4    4044.0  0.256103\n"
     ]
    }
   ],
   "source": [
    "import pandas as pd\n",
    "\n",
    "def calculate_adg_from_samplings(samplings_df):\n",
    "    samplings_df['sampled_at'] = pd.to_datetime(samplings_df['sampled_at'], errors='coerce', dayfirst=False)\n",
    "\n",
    "    # Drop rows where dates could not be parsed (now NaT)\n",
    "    samplings_df = samplings_df.dropna(subset=['sampled_at'])\n",
    "\n",
    "    # Sort the DataFrame\n",
    "    samplings_df = samplings_df.sort_values(by=['cycle_id', 'sampled_at'])\n",
    "    \n",
    "    # Calculate weight differences and the days between samplings\n",
    "    samplings_df['weight_diff'] = samplings_df.groupby('cycle_id')['average_weight'].diff()\n",
    "    samplings_df['days_diff'] = samplings_df.groupby('cycle_id')['sampled_at'].diff().dt.days\n",
    "\n",
    "    # Calculate ADG for each interval\n",
    "    samplings_df['interval_adg'] = samplings_df['weight_diff'] / samplings_df['days_diff']\n",
    "    \n",
    "    # Average the ADGs to get a single value per cycle\n",
    "    adg_df = samplings_df.groupby('cycle_id')['interval_adg'].mean().reset_index()\n",
    "    adg_df.columns = ['cycle_id', 'ADG']\n",
    "    \n",
    "    return adg_df\n",
    "\n",
    "\n",
    "adg_df = calculate_adg_from_samplings(dataframes['samplings'])\n",
    "print(\"Average Daily Gain (ADG) per Cultivation Cycle:\\n\", adg_df.head())\n",
    "adg_df.to_csv('adg.csv', index=False)\n"
   ]
  },
  {
   "cell_type": "markdown",
   "id": "e2744921",
   "metadata": {},
   "source": [
    "# 4. Feature Engineering for Survival Rate Predictive Model"
   ]
  },
  {
   "cell_type": "markdown",
   "id": "d0c5e9d6",
   "metadata": {},
   "source": [
    "## 4. 1. Agregate The Environtmental Factor for Each Cycle, calculate the mean"
   ]
  },
  {
   "cell_type": "code",
   "execution_count": 5,
   "id": "e858eeb2",
   "metadata": {},
   "outputs": [],
   "source": [
    "# Access the measurements data from the dataframes dictionary\n",
    "measurements = dataframes[\"measurements\"]\n",
    "\n",
    "# Group by 'cycle_id' and calculate mean for each numeric column, excluding NaNs\n",
    "average_means = measurements.groupby('cycle_id').mean(numeric_only=True).reset_index()\n",
    "\n",
    "average_means[\"cycle_id\"] = average_means['cycle_id'].astype(str)\n"
   ]
  },
  {
   "cell_type": "markdown",
   "id": "23c73d4d",
   "metadata": {},
   "source": [
    "## 4.2. Number of Cultivation Days per Cycle"
   ]
  },
  {
   "cell_type": "code",
   "execution_count": 6,
   "id": "39d2cfaf",
   "metadata": {},
   "outputs": [
    {
     "name": "stderr",
     "output_type": "stream",
     "text": [
      "C:\\Users\\lenovo\\AppData\\Local\\Temp\\ipykernel_21416\\2452845885.py:13: SettingWithCopyWarning: \n",
      "A value is trying to be set on a copy of a slice from a DataFrame.\n",
      "Try using .loc[row_indexer,col_indexer] = value instead\n",
      "\n",
      "See the caveats in the documentation: https://pandas.pydata.org/pandas-docs/stable/user_guide/indexing.html#returning-a-view-versus-a-copy\n",
      "  cycles_last[\"id\"] = cycles_last['id'].astype(str)\n"
     ]
    }
   ],
   "source": [
    "# Access the cycles data from the dataframes dictionary\n",
    "cycles = dataframes[\"cycles\"]\n",
    "# Convert 'started_at' and 'finished_at' to datetime if not already\n",
    "cycles['started_at'] = pd.to_datetime(cycles['started_at'])\n",
    "cycles['finished_at'] = pd.to_datetime(cycles['finished_at'])\n",
    "\n",
    "# Calculate the age of each cycle in days\n",
    "cycles['cycle_age_days'] = (cycles['finished_at'] - cycles['started_at']).dt.days\n",
    "\n",
    "# Display the updated DataFrame with cycle age\n",
    "cycles_last = cycles.drop_duplicates(subset=['id'], keep='last')\n",
    "\n",
    "cycles_last[\"id\"] = cycles_last['id'].astype(str)"
   ]
  },
  {
   "cell_type": "markdown",
   "id": "5267e8e1",
   "metadata": {},
   "source": [
    "## 4.3 Total Harvested Shrimp (Size) and Total Weight"
   ]
  },
  {
   "cell_type": "code",
   "execution_count": 7,
   "id": "91b54cee",
   "metadata": {},
   "outputs": [
    {
     "name": "stdout",
     "output_type": "stream",
     "text": [
      "  cycle_id  total_shrimp  total_weight\n",
      "0    15013        399.86          0.01\n",
      "1    11848        600.00         56.00\n",
      "3     4666        300.00        541.00\n",
      "5    18747         72.30       5322.28\n",
      "6    27095        544.00       9382.50\n"
     ]
    }
   ],
   "source": [
    "harvests = dataframes[\"harvests\"]\n",
    "\n",
    "#Calculate the total harvested shrimp (sumproduct for each cycle_id)\n",
    "harvests['total_harvested_shrimp'] = harvests['weight'] * harvests['size']\n",
    "\n",
    "#Calculate the total shrimp and total weight per cycle_id\n",
    "total_shrimp_per_cycle = harvests.groupby('cycle_id')['size'].sum()\n",
    "total_weight_per_cycle = harvests.groupby('cycle_id')['weight'].sum()\n",
    "\n",
    "#Merge the results back into the original dataframe \n",
    "harvests = harvests.merge(total_shrimp_per_cycle.rename('total_shrimp'), on='cycle_id', how='left')\n",
    "harvests = harvests.merge(total_weight_per_cycle.rename('total_weight'), on='cycle_id', how='left')\n",
    "\n",
    "# Display the dataframe with the required columns\n",
    "harvests = harvests[[\"cycle_id\", \"total_shrimp\", \"total_weight\"]]\n",
    "\n",
    "# Remove duplicates \n",
    "harvests = harvests.drop_duplicates(subset=['cycle_id', \"total_shrimp\", \"total_weight\"])\n",
    "harvests[\"cycle_id\"] = harvests['cycle_id'].astype(int).astype(str)\n",
    "\n",
    "# Display the final DataFrame\n",
    "print(harvests.head())\n"
   ]
  },
  {
   "cell_type": "markdown",
   "id": "09fbbd5a",
   "metadata": {},
   "source": [
    "## 4.4 Total Feed Quantity per Cycle"
   ]
  },
  {
   "cell_type": "code",
   "execution_count": 8,
   "id": "f03c92f0",
   "metadata": {},
   "outputs": [],
   "source": [
    "feeds = dataframes[\"feeds\"]\n",
    "\n",
    "# Group by cycle_id and sum the quantity\n",
    "total_feed_per_cycle = feeds.groupby('cycle_id')['quantity'].sum().reset_index()\n",
    "total_feed_per_cycle.rename(columns={'quantity': 'feed_quantity'}, inplace=True)\n",
    "total_feed_per_cycle[\"cycle_id\"] = total_feed_per_cycle['cycle_id'].astype(str)"
   ]
  },
  {
   "cell_type": "markdown",
   "id": "60c358d7",
   "metadata": {},
   "source": [
    "## 4.5 Data Merging"
   ]
  },
  {
   "cell_type": "code",
   "execution_count": 9,
   "id": "19501dd4",
   "metadata": {},
   "outputs": [],
   "source": [
    "sr_data_model = pd.merge(cycles_last, harvests ,left_on='id', right_on=\"cycle_id\", how='left')\n",
    "sr_data_model = pd.merge(sr_data_model, total_feed_per_cycle, on=\"cycle_id\", how='left')\n",
    "sr_model_dataf = pd.merge(sr_df,sr_data_model, on=\"cycle_id\", how='left')\n",
    "sr_model_dataf2= pd.merge(sr_model_dataf,average_means, on=\"cycle_id\", how='left')"
   ]
  },
  {
   "cell_type": "markdown",
   "id": "08e09ccb",
   "metadata": {},
   "source": [
    "## 4.6 Filter Out The Data Based on Survival Rate < 100%"
   ]
  },
  {
   "cell_type": "code",
   "execution_count": 10,
   "id": "4c1d22ba",
   "metadata": {},
   "outputs": [],
   "source": [
    "sr_model_dataf2 = sr_model_dataf2[sr_model_dataf2[\"SR\"] < 100]"
   ]
  },
  {
   "cell_type": "markdown",
   "id": "8051c979",
   "metadata": {},
   "source": [
    "## 4.7 Feature Selection for Modeling"
   ]
  },
  {
   "cell_type": "code",
   "execution_count": 11,
   "id": "8eaf80f6",
   "metadata": {},
   "outputs": [],
   "source": [
    "sr_model_dataf3= sr_model_dataf2[[\"SR\", \"cycle_age_days\", \"total_seed\",\"area\",\"total_shrimp\", \"total_weight\",\n",
    "                                 \"feed_quantity\", \"morning_temperature\",\"evening_temperature\", \"morning_do\", \"evening_do\",\n",
    "                                 \"morning_salinity\", \"evening_salinity\", \"morning_pH\", \"evening_pH\",\n",
    "                                 \"nitrate\", \"nitrite\", \"alkalinity\"]]"
   ]
  },
  {
   "cell_type": "markdown",
   "id": "2b5ada6a",
   "metadata": {},
   "source": [
    "# 5. Modeling for Survival Rate"
   ]
  },
  {
   "cell_type": "code",
   "execution_count": 23,
   "id": "b9f29d4d",
   "metadata": {},
   "outputs": [
    {
     "name": "stdout",
     "output_type": "stream",
     "text": [
      "Mean Squared Error: 136.39641825706053\n",
      "Root Mean Squared Error: 11.678887714892225\n",
      "R-squared: 0.8131022587579652\n"
     ]
    }
   ],
   "source": [
    "import pandas as pd\n",
    "from sklearn.model_selection import train_test_split\n",
    "from sklearn.ensemble import RandomForestRegressor\n",
    "from sklearn.metrics import mean_squared_error, r2_score\n",
    "import joblib\n",
    "import numpy as np  # Import numpy for the square root function\n",
    "\n",
    "sr_model_datafinal = sr_model_dataf3.fillna(sr_model_dataf3.median())\n",
    "\n",
    "X = sr_model_datafinal[[\"cycle_age_days\", \"total_seed\",\"area\",\"total_shrimp\", \"total_weight\",\n",
    "                        \"feed_quantity\", \"morning_temperature\",\"evening_temperature\", \"morning_do\", \"evening_do\",\n",
    "                        \"morning_salinity\", \"evening_salinity\", \"morning_pH\", \"evening_pH\",\n",
    "                        \"nitrate\", \"nitrite\", \"alkalinity\"]]\n",
    "\n",
    "y = sr_model_datafinal[\"SR\"]\n",
    "\n",
    "# Split the Data into Training and Test Sets\n",
    "X_train, X_test, y_train, y_test = train_test_split(X, y, test_size=0.2, random_state=42)\n",
    "\n",
    "# Train the Model (Random Forest Regressor)\n",
    "model = RandomForestRegressor(n_estimators=100, random_state=42)  \n",
    "model.fit(X_train, y_train)\n",
    "joblib.dump(model, 'model_sr.pkl')\n",
    "\n",
    "# Evaluate the Model\n",
    "y_pred = model.predict(X_test)\n",
    "mse = mean_squared_error(y_test, y_pred)\n",
    "rmse = np.sqrt(mse)  # Calculate the root mean squared error\n",
    "r2 = r2_score(y_test, y_pred)\n",
    "\n",
    "# Output the results\n",
    "print(f\"Mean Squared Error: {mse}\")\n",
    "print(f\"Root Mean Squared Error: {rmse}\")  # Output RMSE\n",
    "print(f\"R-squared: {r2}\")\n",
    "\n",
    "model = joblib.load('model_sr.pkl')\n",
    "\n",
    "# Prepare the data (exclude any columns not used in training, such as cycle_id)\n",
    "X_new = sr_model_dataf2[[\"cycle_age_days\", \"total_seed\",\"area\",\"total_shrimp\", \"total_weight\",\n",
    "                         \"feed_quantity\", \"morning_temperature\",\"evening_temperature\", \"morning_do\", \"evening_do\",\n",
    "                         \"morning_salinity\", \"evening_salinity\", \"morning_pH\", \"evening_pH\",\n",
    "                         \"nitrate\", \"nitrite\", \"alkalinity\"]]\n",
    "\n",
    "# Make predictions\n",
    "predictions = model.predict(X_new)\n",
    "\n",
    "# Combine predictions with the original sr_model_dataf2 (e.g., to include cycle_id or other identifiers)\n",
    "sr_model_dataf2['predicted_SR'] = predictions\n",
    "\n",
    "# Display the predictions\n",
    "predicted_survival_rate = sr_model_dataf2[['cycle_id', 'predicted_SR']] \n",
    "\n",
    "predicted_survival_rate.to_csv(\"predicted_survival_rate.csv\")"
   ]
  },
  {
   "cell_type": "markdown",
   "id": "d801af50",
   "metadata": {},
   "source": [
    "# 6. Feature Importance for Survival Rate"
   ]
  },
  {
   "cell_type": "code",
   "execution_count": 14,
   "id": "21703eda",
   "metadata": {},
   "outputs": [
    {
     "data": {
      "image/png": "[encoded data removed]",
      "text/plain": [
       "<Figure size 1000x600 with 1 Axes>"
      ]
     },
     "metadata": {},
     "output_type": "display_data"
    },
    {
     "name": "stdout",
     "output_type": "stream",
     "text": [
      "                Feature  Importance\n",
      "4          total_weight    0.415038\n",
      "3          total_shrimp    0.139814\n",
      "1            total_seed    0.138793\n",
      "2                  area    0.098363\n",
      "0        cycle_age_days    0.047068\n",
      "5         feed_quantity    0.027083\n",
      "6   morning_temperature    0.019610\n",
      "9            evening_do    0.016026\n",
      "12           morning_pH    0.015194\n",
      "7   evening_temperature    0.014341\n",
      "13           evening_pH    0.013054\n",
      "10     morning_salinity    0.013012\n",
      "11     evening_salinity    0.011302\n",
      "8            morning_do    0.011138\n",
      "16           alkalinity    0.008543\n",
      "15              nitrite    0.007442\n",
      "14              nitrate    0.004178\n"
     ]
    }
   ],
   "source": [
    "import matplotlib.pyplot as plt\n",
    "\n",
    "features = [\"cycle_age_days\", \"total_seed\", \"area\", \"total_shrimp\", \"total_weight\",\n",
    "            \"feed_quantity\", \"morning_temperature\", \"evening_temperature\", \"morning_do\", \"evening_do\",\n",
    "            \"morning_salinity\", \"evening_salinity\", \"morning_pH\", \"evening_pH\",\n",
    "            \"nitrate\", \"nitrite\", \"alkalinity\"]\n",
    "\n",
    "# Extract feature importances from the model\n",
    "importances = model.feature_importances_\n",
    "\n",
    "# Create a DataFrame to hold feature names and their importance\n",
    "feature_importance_df = pd.DataFrame({'Feature': features, 'Importance': importances})\n",
    "\n",
    "# Sort the DataFrame by importance in descending order\n",
    "feature_importance_df = feature_importance_df.sort_values(by='Importance', ascending=False)\n",
    "\n",
    "# Plotting the feature importances\n",
    "plt.figure(figsize=(10, 6))\n",
    "plt.barh(feature_importance_df['Feature'], feature_importance_df['Importance'], color='skyblue')\n",
    "plt.xlabel('Importance')\n",
    "plt.ylabel('Feature')\n",
    "plt.title('Feature Importance from Random Forest Model')\n",
    "plt.gca().invert_yaxis()  # Invert y-axis to have the most important at the top\n",
    "plt.show()\n",
    "\n",
    "# Display the DataFrame\n",
    "print(feature_importance_df)\n"
   ]
  },
  {
   "cell_type": "markdown",
   "id": "5b3e8047",
   "metadata": {},
   "source": [
    "# 7. Feature Engineering for Average Body Weight of Shrimp (in grams) forecast"
   ]
  },
  {
   "cell_type": "code",
   "execution_count": 15,
   "id": "7c474267",
   "metadata": {},
   "outputs": [],
   "source": [
    "# Ensure dates are in the correct format\n",
    "dataframes[\"samplings\"]['sampled_at'] = pd.to_datetime(dataframes[\"samplings\"]['sampled_at'])\n",
    "dataframes[\"cycles\"]['started_at'] = pd.to_datetime(dataframes[\"cycles\"]['started_at'])\n",
    "\n",
    "# Rename 'id' to 'cycle_id' in the cycles DataFrame for consistent merging\n",
    "dataframes[\"cycles\"].rename(columns={'id': 'cycle_id'}, inplace=True)\n",
    "\n",
    "# Merge cycles data with samplings to get the start dates and average_weight for each cycle\n",
    "merged_data = pd.merge(dataframes[\"samplings\"], dataframes[\"cycles\"][['cycle_id', 'started_at']],\n",
    "                       on='cycle_id', how='left')\n",
    "\n",
    "# Calculate the age in days at each sampling point\n",
    "merged_data['age_at_sampling_days'] = (merged_data['sampled_at'] - merged_data['started_at']).dt.days\n",
    "\n",
    "\n",
    "# Merge df1 and df2 using 'id' and matching 'name' from df1 with 'full_name' from df2\n",
    "dataframes[\"feeds\"]['logged_at'] = pd.to_datetime(dataframes[\"feeds\"]['logged_at']).dt.date\n",
    "dataframes[\"samplings\"][\"sampled_at\"] = pd.to_datetime(dataframes[\"feeds\"]['logged_at']).dt.date\n",
    "merged_data[\"sampled_at\"] = pd.to_datetime(merged_data['sampled_at']).dt.date\n",
    "\n",
    "# Drop duplicates, keeping only the last occurrence in df1\n",
    "df1_last = dataframes[\"feeds\"].drop_duplicates(subset=['cycle_id', 'logged_at'], keep='last')\n",
    "\n",
    "result = pd.merge(merged_data, df1_last, left_on=['cycle_id', 'sampled_at'], right_on=['cycle_id', 'logged_at'], how='left')\n",
    "\n",
    "result[\"cycle_id\"] = result['cycle_id'].astype(int).astype(str)\n",
    "\n",
    "result2 = pd.merge(result, sr_model_dataf2, on=['cycle_id'], how='left')\n",
    "\n",
    "abw_model_datafinal = result2[[\"age_at_sampling_days\", \"total_seed\", \"area\", \"total_shrimp\", \"total_weight\",\n",
    "            \"feed_quantity\", \"morning_temperature\", \"evening_temperature\", \"morning_do\", \"evening_do\",\n",
    "            \"morning_salinity\", \"evening_salinity\", \"morning_pH\", \"evening_pH\",\n",
    "            \"nitrate\", \"nitrite\", \"alkalinity\",\"average_weight\"]]"
   ]
  },
  {
   "cell_type": "markdown",
   "id": "a8a502cd",
   "metadata": {},
   "source": [
    "# 8. Modeling for Average Body Weight of Shrimp (in grams) forecast"
   ]
  },
  {
   "cell_type": "code",
   "execution_count": 29,
   "id": "4640d77e",
   "metadata": {},
   "outputs": [
    {
     "name": "stdout",
     "output_type": "stream",
     "text": [
      "Mean Squared Error: 8143140.954969159\n",
      "Root Mean Squared Error: 2853.6189225208677\n",
      "R-squared: 0.854488354572283\n"
     ]
    }
   ],
   "source": [
    "import pandas as pd\n",
    "from sklearn.model_selection import train_test_split\n",
    "from sklearn.ensemble import RandomForestRegressor\n",
    "from sklearn.metrics import mean_squared_error, r2_score\n",
    "import joblib\n",
    "import numpy as np\n",
    "\n",
    "# Assume 'abw_model_datafinal' is your DataFrame and is already loaded\n",
    "\n",
    "# Fill missing values\n",
    "abw_model_datafinal = abw_model_datafinal.fillna(abw_model_datafinal.median())\n",
    "\n",
    "# Define features and target\n",
    "X = abw_model_datafinal[[\"age_at_sampling_days\", \"area\", \"feed_quantity\"]]\n",
    "y = abw_model_datafinal[\"average_weight\"] * 1000  # Convert target from kg to grams\n",
    "\n",
    "# Split the data into training and test sets\n",
    "X_train, X_test, y_train, y_test = train_test_split(X, y, test_size=0.2, random_state=42)\n",
    "\n",
    "# Train the RandomForestRegressor model\n",
    "model_abw = RandomForestRegressor(n_estimators=100, random_state=42)\n",
    "model_abw.fit(X_train, y_train)\n",
    "\n",
    "# Save the trained model\n",
    "joblib.dump(model_abw, 'model_abw.pkl')\n",
    "\n",
    "# Evaluate the model\n",
    "y_pred = model_abw.predict(X_test)\n",
    "mse = mean_squared_error(y_test, y_pred)\n",
    "rmse = np.sqrt(mse)  # Calculate the root mean squared error\n",
    "r2 = r2_score(y_test, y_pred)\n",
    "\n",
    "# Output the results\n",
    "print(f\"Mean Squared Error: {mse}\")\n",
    "print(f\"Root Mean Squared Error: {rmse}\")\n",
    "print(f\"R-squared: {r2}\")\n",
    "\n",
    "model_abw = joblib.load('model_abw.pkl')\n",
    "\n",
    "# Prepare the data (same features used during training)\n",
    "X_new = result2[[\"age_at_sampling_days\", \"area\", \"feed_quantity\"]]\n",
    "\n",
    "# Make predictions\n",
    "predictions = model_abw.predict(X_new)\n",
    "\n",
    "# Convert predictions back from grams to kg (if needed)\n",
    "predictions_g = predictions   # Convert grams back to kg\n",
    "\n",
    "# Combine predictions with the original abw_model_dataf2 (e.g., to include cycle_id or other identifiers)\n",
    "result2['predicted_average_weight_g'] = predictions_g\n",
    "\n",
    "# Display the predictions\n",
    "predited_average_shrimp_per_gram = result2[['cycle_id', \"age_at_sampling_days\",'predicted_average_weight_g']]\n",
    "\n",
    "predited_average_shrimp_per_gram.to_csv(\"predited_average_shrimp_per_gram.csv\")"
   ]
  },
  {
   "cell_type": "markdown",
   "id": "695280ca",
   "metadata": {},
   "source": [
    "# 9. Feature Importance for Average Body Weight"
   ]
  },
  {
   "cell_type": "code",
   "execution_count": 17,
   "id": "ae40d59f",
   "metadata": {},
   "outputs": [
    {
     "data": {
      "image/png": "[encoded data removed]",
      "text/plain": [
       "<Figure size 1000x600 with 1 Axes>"
      ]
     },
     "metadata": {},
     "output_type": "display_data"
    },
    {
     "name": "stdout",
     "output_type": "stream",
     "text": [
      "                Feature  Importance\n",
      "0  age_at_sampling_days    0.842102\n",
      "2         feed_quantity    0.096748\n",
      "1                  area    0.061150\n"
     ]
    }
   ],
   "source": [
    "# Calculate feature importances\n",
    "feature_importances = model_abw.feature_importances_\n",
    "features = [\"age_at_sampling_days\", \"area\", \"feed_quantity\"]\n",
    "feature_importance_df = pd.DataFrame({'Feature': features, 'Importance': feature_importances})\n",
    "\n",
    "# Sort the DataFrame by importance in descending order\n",
    "feature_importance_df.sort_values(by='Importance', ascending=False, inplace=True)\n",
    "\n",
    "# Plotting the feature importances\n",
    "plt.figure(figsize=(10, 6))\n",
    "plt.barh(feature_importance_df['Feature'], feature_importance_df['Importance'], color='skyblue')\n",
    "plt.xlabel('Importance')\n",
    "plt.ylabel('Feature')\n",
    "plt.title('Feature Importance for Predicting Average Weight')\n",
    "plt.gca().invert_yaxis()  # Invert y-axis to have the most important at the top\n",
    "plt.show()\n",
    "\n",
    "# Print the DataFrame of feature importances\n",
    "print(feature_importance_df)"
   ]
  },
  {
   "cell_type": "markdown",
   "id": "e995bc2d",
   "metadata": {},
   "source": [
    "# 10. Biomass Forecast"
   ]
  },
  {
   "cell_type": "code",
   "execution_count": 18,
   "id": "568e2ece",
   "metadata": {},
   "outputs": [
    {
     "name": "stderr",
     "output_type": "stream",
     "text": [
      "c:\\Users\\lenovo\\Documents\\jalaku\\venv\\Lib\\site-packages\\sklearn\\base.py:493: UserWarning: X does not have valid feature names, but RandomForestRegressor was fitted with feature names\n",
      "  warnings.warn(\n"
     ]
    },
    {
     "data": {
      "image/png": "[encoded data removed]",
      "text/plain": [
       "<Figure size 1200x600 with 1 Axes>"
      ]
     },
     "metadata": {},
     "output_type": "display_data"
    }
   ],
   "source": [
    "import numpy as np\n",
    "import pandas as pd\n",
    "import matplotlib.pyplot as plt\n",
    "from joblib import load\n",
    "\n",
    "def forecast_biomass(days_until_harvest, pond_area, total_seed, feed_quantity):\n",
    "    # Load the pre-trained RandomForestRegressor model\n",
    "    model = load('model_abw.pkl')  # Ensure the model file 'model_abw.pkl' is in your directory\n",
    "\n",
    "    # Generate daily data for the specified number of days until harvest\n",
    "    day_numbers = np.arange(1, days_until_harvest + 1)  # Day numbers from 1 to days_until_harvest\n",
    "    feed_quantity_array = np.full(days_until_harvest, feed_quantity)  # Constant feed quantity each day\n",
    "    pond_area_array = np.full(days_until_harvest, pond_area)  # Constant pond area\n",
    "\n",
    "    # Prepare the features array for prediction\n",
    "    X_predict = np.column_stack((day_numbers, pond_area_array, feed_quantity_array))\n",
    "\n",
    "    # Predict ABW for each day (predictions are in grams)\n",
    "    abw_predictions_grams = model.predict(X_predict)\n",
    "\n",
    "    # Convert predictions to kilograms\n",
    "    abw_predictions_kg = abw_predictions_grams / 1000\n",
    "\n",
    "    # Calculate daily biomass in kg (assuming all seeds survive to each day)\n",
    "    daily_biomass_kg = abw_predictions_kg * total_seed\n",
    "\n",
    "    # Calculate cumulative biomass in kg\n",
    "    cumulative_biomass_kg = np.cumsum(daily_biomass_kg)  # Cumulative sum of biomass\n",
    "\n",
    "    # Calculate cumulative biomass per square meter\n",
    "    cumulative_biomass_per_m2 = cumulative_biomass_kg / pond_area\n",
    "\n",
    "    # Create a DataFrame for plotting\n",
    "    forecast_df = pd.DataFrame({\n",
    "        'Day': day_numbers,\n",
    "        'Cumulative_Biomass_per_m2': cumulative_biomass_per_m2\n",
    "    })\n",
    "\n",
    "    # Plotting the results\n",
    "    plt.figure(figsize=(12, 6))\n",
    "    plt.plot(forecast_df['Day'], forecast_df['Cumulative_Biomass_per_m2'], marker='o', linestyle='-', color='blue')\n",
    "    plt.title('Cumulative Forecasted Biomass per Square Meter Over Days Until Harvest')\n",
    "    plt.xlabel('Day Number')\n",
    "    plt.ylabel('Cumulative Biomass per m² (kg/m²)')\n",
    "    plt.grid(True)\n",
    "    plt.show()\n",
    "\n",
    "# Example usage of the function\n",
    "forecast_biomass(days_until_harvest=60, pond_area=1000, total_seed=100, feed_quantity=1200)\n"
   ]
  },
  {
   "cell_type": "markdown",
   "id": "9546bb24",
   "metadata": {},
   "source": [
    "# 11. Revenue Forecast"
   ]
  },
  {
   "cell_type": "code",
   "execution_count": 19,
   "id": "3c672a6d",
   "metadata": {},
   "outputs": [
    {
     "name": "stdout",
     "output_type": "stream",
     "text": [
      "Cumulative Revenue by Day 60: $232171.74\n"
     ]
    },
    {
     "name": "stderr",
     "output_type": "stream",
     "text": [
      "c:\\Users\\lenovo\\Documents\\jalaku\\venv\\Lib\\site-packages\\sklearn\\base.py:493: UserWarning: X does not have valid feature names, but RandomForestRegressor was fitted with feature names\n",
      "  warnings.warn(\n"
     ]
    }
   ],
   "source": [
    "import numpy as np\n",
    "from joblib import load\n",
    "\n",
    "def forecast_biomass_and_revenue(days_until_harvest, pond_area, total_seed, feed_quantity, price_per_kg):\n",
    "    # Load the pre-trained model\n",
    "    model = load('model_abw.pkl')\n",
    "\n",
    "    # Generate daily data\n",
    "    day_numbers = np.arange(1, days_until_harvest + 1)\n",
    "    feed_quantity_array = np.full(days_until_harvest, feed_quantity)\n",
    "    pond_area_array = np.full(days_until_harvest, pond_area)\n",
    "\n",
    "    # Predict ABW for each day using the model (in grams)\n",
    "    X_predict = np.column_stack((day_numbers, pond_area_array, feed_quantity_array))\n",
    "    abw_predictions_grams = model.predict(X_predict)\n",
    "\n",
    "    # Convert predictions to kilograms\n",
    "    abw_predictions_kg = abw_predictions_grams / 1000\n",
    "\n",
    "    # Calculate daily biomass in kg\n",
    "    daily_biomass_kg = abw_predictions_kg * total_seed\n",
    "\n",
    "    # Calculate cumulative revenue\n",
    "    daily_revenue = daily_biomass_kg * price_per_kg\n",
    "    cumulative_revenue = np.cumsum(daily_revenue)\n",
    "\n",
    "    # Print cumulative revenue on the last day\n",
    "    print(f\"Cumulative Revenue by Day {days_until_harvest}: ${cumulative_revenue[-1]:.2f}\")\n",
    "\n",
    "    return cumulative_revenue[-1]\n",
    "\n",
    "# Example usage\n",
    "price_per_kg = 10  # Example price per kilogram of shrimp\n",
    "forecasted_revenue = forecast_biomass_and_revenue(days_until_harvest=60, pond_area=1000, total_seed=100, feed_quantity=1200, price_per_kg=price_per_kg)\n"
   ]
  }
 ],
 "metadata": {
  "kernelspec": {
   "display_name": "Python 3 (ipykernel)",
   "language": "python",
   "name": "python3"
  },
  "language_info": {
   "codemirror_mode": {
    "name": "ipython",
    "version": 3
   },
   "file_extension": ".py",
   "mimetype": "text/x-python",
   "name": "python",
   "nbconvert_exporter": "python",
   "pygments_lexer": "ipython3",
   "version": "3.11.4"
  }
 },
 "nbformat": 4,
 "nbformat_minor": 5
}
